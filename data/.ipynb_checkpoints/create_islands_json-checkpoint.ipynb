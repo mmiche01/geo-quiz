{
 "cells": [
  {
   "cell_type": "code",
   "execution_count": 1,
   "id": "5f0dc4c2",
   "metadata": {},
   "outputs": [
    {
     "data": {
      "text/html": [
       "<div>\n",
       "<style scoped>\n",
       "    .dataframe tbody tr th:only-of-type {\n",
       "        vertical-align: middle;\n",
       "    }\n",
       "\n",
       "    .dataframe tbody tr th {\n",
       "        vertical-align: top;\n",
       "    }\n",
       "\n",
       "    .dataframe thead th {\n",
       "        text-align: right;\n",
       "    }\n",
       "</style>\n",
       "<table border=\"1\" class=\"dataframe\">\n",
       "  <thead>\n",
       "    <tr style=\"text-align: right;\">\n",
       "      <th></th>\n",
       "      <th>name_en;name_ger;waters;area_in_km2;state;svg_name;svg_status</th>\n",
       "    </tr>\n",
       "  </thead>\n",
       "  <tbody>\n",
       "    <tr>\n",
       "      <th>0</th>\n",
       "      <td>Alexander Island;Alexander-I.-Insel;Bellingsha...</td>\n",
       "    </tr>\n",
       "    <tr>\n",
       "      <th>1</th>\n",
       "      <td>Axel Heiberg Island;Axel Heiberg Island;Arktis...</td>\n",
       "    </tr>\n",
       "    <tr>\n",
       "      <th>2</th>\n",
       "      <td>Baffin Island;Baffininsel;Nordatlantik/Arktisc...</td>\n",
       "    </tr>\n",
       "    <tr>\n",
       "      <th>3</th>\n",
       "      <td>Bali;Bali;Indischer Ozean;5.561;Indonesien;Bal...</td>\n",
       "    </tr>\n",
       "    <tr>\n",
       "      <th>4</th>\n",
       "      <td>Banks Island;Banksinsel;Arktischer Ozean;70.02...</td>\n",
       "    </tr>\n",
       "    <tr>\n",
       "      <th>...</th>\n",
       "      <td>...</td>\n",
       "    </tr>\n",
       "    <tr>\n",
       "      <th>64</th>\n",
       "      <td>Tenerife;Teneriffa;Atlantischer Ozean;2.034;Sp...</td>\n",
       "    </tr>\n",
       "    <tr>\n",
       "      <th>65</th>\n",
       "      <td>Tierra del Fuego;Feuerland;Südatlantik;47.992;...</td>\n",
       "    </tr>\n",
       "    <tr>\n",
       "      <th>66</th>\n",
       "      <td>Timor;Timor;Indischer Ozean;28.418;Indonesien/...</td>\n",
       "    </tr>\n",
       "    <tr>\n",
       "      <th>67</th>\n",
       "      <td>Vancouver Island;Vancouver Island;Pazifischer ...</td>\n",
       "    </tr>\n",
       "    <tr>\n",
       "      <th>68</th>\n",
       "      <td>Victoria Island;Victoria-Insel;Arktischer Ozea...</td>\n",
       "    </tr>\n",
       "  </tbody>\n",
       "</table>\n",
       "<p>69 rows × 1 columns</p>\n",
       "</div>"
      ],
      "text/plain": [
       "   name_en;name_ger;waters;area_in_km2;state;svg_name;svg_status\n",
       "0   Alexander Island;Alexander-I.-Insel;Bellingsha...           \n",
       "1   Axel Heiberg Island;Axel Heiberg Island;Arktis...           \n",
       "2   Baffin Island;Baffininsel;Nordatlantik/Arktisc...           \n",
       "3   Bali;Bali;Indischer Ozean;5.561;Indonesien;Bal...           \n",
       "4   Banks Island;Banksinsel;Arktischer Ozean;70.02...           \n",
       "..                                                ...           \n",
       "64  Tenerife;Teneriffa;Atlantischer Ozean;2.034;Sp...           \n",
       "65  Tierra del Fuego;Feuerland;Südatlantik;47.992;...           \n",
       "66  Timor;Timor;Indischer Ozean;28.418;Indonesien/...           \n",
       "67  Vancouver Island;Vancouver Island;Pazifischer ...           \n",
       "68  Victoria Island;Victoria-Insel;Arktischer Ozea...           \n",
       "\n",
       "[69 rows x 1 columns]"
      ]
     },
     "execution_count": 1,
     "metadata": {},
     "output_type": "execute_result"
    }
   ],
   "source": [
    "import pandas as pd\n",
    "islands_table = pd.read_csv('tables/islands.csv', sep=';')\n",
    "islands_table"
   ]
  }
 ],
 "metadata": {
  "kernelspec": {
   "display_name": "Python 3 (ipykernel)",
   "language": "python",
   "name": "python3"
  },
  "language_info": {
   "codemirror_mode": {
    "name": "ipython",
    "version": 3
   },
   "file_extension": ".py",
   "mimetype": "text/x-python",
   "name": "python",
   "nbconvert_exporter": "python",
   "pygments_lexer": "ipython3",
   "version": "3.10.0"
  }
 },
 "nbformat": 4,
 "nbformat_minor": 5
}
